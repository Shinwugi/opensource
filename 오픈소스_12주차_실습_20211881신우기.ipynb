{
  "nbformat": 4,
  "nbformat_minor": 0,
  "metadata": {
    "colab": {
      "provenance": []
    },
    "kernelspec": {
      "name": "python3",
      "display_name": "Python 3"
    },
    "language_info": {
      "name": "python"
    }
  },
  "cells": [
    {
      "cell_type": "code",
      "execution_count": 1,
      "metadata": {
        "id": "gTHN3699I7To"
      },
      "outputs": [],
      "source": [
        "# 06\n",
        "# 예제 1번\n",
        "from abc import ABC, abstractmethod\n",
        "from collections import namedtuple\n",
        "\n",
        "Customer = namedtuple('Customer', 'name fidelity')"
      ]
    },
    {
      "cell_type": "code",
      "source": [
        "park = Customer('Park', 100)\n",
        "park"
      ],
      "metadata": {
        "id": "yYmWZl4XKBL5",
        "colab": {
          "base_uri": "https://localhost:8080/"
        },
        "outputId": "3b278837-57a7-47da-f27a-b78dc773c46d"
      },
      "execution_count": 2,
      "outputs": [
        {
          "output_type": "execute_result",
          "data": {
            "text/plain": [
              "Customer(name='Park', fidelity=100)"
            ]
          },
          "metadata": {},
          "execution_count": 2
        }
      ]
    },
    {
      "cell_type": "code",
      "source": [
        "class LineItem:\n",
        "  \"\"\"구매할 물품/갯수 생성해서 총 가격을 반환\"\"\"\n",
        "  def __init__(self, product, quantity, price):\n",
        "    self.product = product\n",
        "    self.quantity = quantity\n",
        "    self.price = price\n",
        "\n",
        "  def total(self):\n",
        "    return self.price * self.quantity"
      ],
      "metadata": {
        "id": "T_WU8yKhKF4o"
      },
      "execution_count": 4,
      "outputs": []
    },
    {
      "cell_type": "code",
      "source": [
        "class Order: #Context\n",
        "  \"\"\"고객(namedtuple) 및 LineItem 클래스의 인스턴스들을 cart로 받아서 총 계산할 가격을 산출\"\"\"\n",
        "  def __init__(self, customer, cart, promotion=None):\n",
        "    self.customer = customer\n",
        "    self.cart = list(cart)\n",
        "    self.promotion = promotion # 할인 객체\n",
        "\n",
        "  def total(self):\n",
        "    \"\"\"__total 속성이 없으면 전체 계산할 값을 계산\"\"\"\n",
        "    if not hasattr(self, '__total'):\n",
        "      self.__total = sum(item.total() for item in self.cart)\n",
        "    return self.__total\n",
        "\n",
        "  def due(self):\n",
        "    \"\"\"할인금액 차감\"\"\"\n",
        "    if self.promotion is None:\n",
        "      discount = 0\n",
        "    else:\n",
        "      discount = self.promotion.discount(self) # self = Order 객체\n",
        "    return self.total() - discount\n",
        "\n",
        "  def __repr__(self):\n",
        "    fmt = '<Order total: {:.2f} due: {:.2f}>'\n",
        "    return fmt.format(self.total(), self.due())"
      ],
      "metadata": {
        "id": "qey2FffNKdnD"
      },
      "execution_count": 7,
      "outputs": []
    },
    {
      "cell_type": "code",
      "source": [
        "class Promotion(ABC): # strategy : abstract base class\n",
        "  \"\"\"할인 혜택 클래스들의 형태를 선언\"\"\"\n",
        "\n",
        "  @abstractmethod # 이 클래스를 상속하는 클래스는 반드시 이 메서드를 선언해야함\n",
        "  def discount(self, order):\n",
        "    \"\"\"할인액을 구체적인 숫자로 반환\"\"\"\n",
        "    pass"
      ],
      "metadata": {
        "id": "89cJpnHzaOH1"
      },
      "execution_count": 8,
      "outputs": []
    },
    {
      "cell_type": "code",
      "source": [
        "class FidelityPromo(Promotion):\n",
        "  \"\"\"충성도 점수가 1000점 이상인 고객에게 전체 5% 할인 적용\"\"\"\n",
        "\n",
        "  def discount(self, order):\n",
        "    return order.total() * 0.05 if order.customer.fidelity >= 1000 else 0\n",
        "\n",
        "class BulkItemPromo(Promotion):\n",
        "  \"\"\"20개 이상의 동일 상품을 구입하면 10% 할인 적용\"\"\"\n",
        "\n",
        "  def discount(self, order):\n",
        "    discount = 0\n",
        "    for item in order.cart:\n",
        "      if item.quantity >= 20:\n",
        "        discount += item.total() * 0.1\n",
        "      return discount\n",
        "\n",
        "class LargeOrderPromo(Promotion):\n",
        "  \"\"\"10종류 이상의 상품을 구입하면 전체 7% 할인 적용\"\"\"\n",
        "\n",
        "  def discount(self, order):\n",
        "    distinct_items = {item.product for item in order.cart}\n",
        "    if len(distinct_items) >= 10:\n",
        "      return order.total() * 0.07\n",
        "    return 0"
      ],
      "metadata": {
        "id": "DlvEopc_asEQ"
      },
      "execution_count": 9,
      "outputs": []
    },
    {
      "cell_type": "code",
      "source": [
        "# 예제 2번\n",
        "joe = Customer('John Doe', 0)\n",
        "ann = Customer('Ann Smith', 1100)\n",
        "cart = [LineItem('banana', 4, .5),\n",
        "        LineItem('apple', 10, 1.5),\n",
        "        LineItem('watermellon', 5, 5.0)]"
      ],
      "metadata": {
        "id": "jiqP0EjBbr_X"
      },
      "execution_count": 13,
      "outputs": []
    },
    {
      "cell_type": "code",
      "source": [
        "Order(joe, cart, FidelityPromo())"
      ],
      "metadata": {
        "id": "sKMkDZKKcD1j",
        "colab": {
          "base_uri": "https://localhost:8080/"
        },
        "outputId": "b7b6ddb2-08ad-458b-ca9b-69d1b2daae43"
      },
      "execution_count": 14,
      "outputs": [
        {
          "output_type": "execute_result",
          "data": {
            "text/plain": [
              "<Order total: 42.00 due: 42.00>"
            ]
          },
          "metadata": {},
          "execution_count": 14
        }
      ]
    },
    {
      "cell_type": "code",
      "source": [
        "Order(ann, cart, FidelityPromo())"
      ],
      "metadata": {
        "id": "gARU4e89cIHu",
        "colab": {
          "base_uri": "https://localhost:8080/"
        },
        "outputId": "766173f5-6277-4a37-da42-e711fccc5634"
      },
      "execution_count": 15,
      "outputs": [
        {
          "output_type": "execute_result",
          "data": {
            "text/plain": [
              "<Order total: 42.00 due: 39.90>"
            ]
          },
          "metadata": {},
          "execution_count": 15
        }
      ]
    },
    {
      "cell_type": "code",
      "source": [
        "banana_cart = [LineItem('banana', 30, .5),\n",
        "               LineItem('apple', 10, 1.5)]"
      ],
      "metadata": {
        "id": "Nb3KBdQQcNA7"
      },
      "execution_count": 16,
      "outputs": []
    },
    {
      "cell_type": "code",
      "source": [
        "Order(joe, banana_cart, BulkItemPromo())"
      ],
      "metadata": {
        "id": "p206H5OtcWGb",
        "colab": {
          "base_uri": "https://localhost:8080/"
        },
        "outputId": "45b775e4-5649-40c8-ba30-a14dd240a52f"
      },
      "execution_count": 17,
      "outputs": [
        {
          "output_type": "execute_result",
          "data": {
            "text/plain": [
              "<Order total: 30.00 due: 28.50>"
            ]
          },
          "metadata": {},
          "execution_count": 17
        }
      ]
    },
    {
      "cell_type": "code",
      "source": [
        "long_order = [LineItem(str(item_code), 1, 1.0) for item_code in range(10)] # 물품 종류가 10개"
      ],
      "metadata": {
        "id": "yS8qWlV9cb2S"
      },
      "execution_count": 18,
      "outputs": []
    },
    {
      "cell_type": "code",
      "source": [
        "Order(joe, long_order, LargeOrderPromo())"
      ],
      "metadata": {
        "id": "vD24PcLocnsZ",
        "colab": {
          "base_uri": "https://localhost:8080/"
        },
        "outputId": "deb30862-00ed-4016-ab59-55534dc83aee"
      },
      "execution_count": 19,
      "outputs": [
        {
          "output_type": "execute_result",
          "data": {
            "text/plain": [
              "<Order total: 10.00 due: 9.30>"
            ]
          },
          "metadata": {},
          "execution_count": 19
        }
      ]
    },
    {
      "cell_type": "code",
      "source": [
        "Order(joe, cart, LargeOrderPromo())"
      ],
      "metadata": {
        "id": "bHpkyxdRcsvV",
        "colab": {
          "base_uri": "https://localhost:8080/"
        },
        "outputId": "b8baf73e-5d8f-4fab-ed5d-77c332d67d6d"
      },
      "execution_count": 20,
      "outputs": [
        {
          "output_type": "execute_result",
          "data": {
            "text/plain": [
              "<Order total: 42.00 due: 42.00>"
            ]
          },
          "metadata": {},
          "execution_count": 20
        }
      ]
    },
    {
      "cell_type": "code",
      "source": [
        "class Order: # Context\n",
        "  \"\"\"고객(namedtuple) 및 LineItem 클래스의 인스턴스들을 cart로 받아서 총 계산할 가격을 산출\"\"\"\n",
        "  def __init__(self, customer, cart, promotion=None):\n",
        "    self.customer = customer\n",
        "    self.cart = list(cart)\n",
        "    self.promotion = promotion # 할인 객체\n",
        "\n",
        "  def total(self):\n",
        "    if not hasattr(self, '__total'):\n",
        "      self.__total = sum(item.total() for item in self.cart)\n",
        "    return self.__total\n",
        "\n",
        "  def due(self):\n",
        "    if self.promotion is None:\n",
        "      discount = 0\n",
        "    else:\n",
        "      discount = self.promotion(self) # promotion은 함수 객체\n",
        "    return self.total() - discount\n",
        "\n",
        "  def __repr__(self):\n",
        "    fmt = '<Order total: {:.2f} due: {:.2f}>'\n",
        "    return fmt.format(self.total(), self.due())"
      ],
      "metadata": {
        "id": "DXRCJtvVczYc"
      },
      "execution_count": 21,
      "outputs": []
    },
    {
      "cell_type": "code",
      "source": [
        "# 예제 3번\n",
        "def fidelity_promo(order):\n",
        "  \"\"\"충성도 점수가 1000점 이상인 고객에게 전체 5% 할인 적용\"\"\"\n",
        "  return order.total() * 0.05 if order.customer.fidelity >= 1000 else 0\n",
        "\n",
        "def bulk_item_promo(order):\n",
        "  \"\"\"20개 이상의 동일 상품을 구입하면 10% 할인 적용\"\"\"\n",
        "  discount = 0\n",
        "  for item in order.cart:\n",
        "    if item.quantity >= 20:\n",
        "      discount += item.total() * 0.1\n",
        "  return discount\n",
        "\n",
        "def large_order_promo(order):\n",
        "  \"\"\"10종류 이상의 상품을 구입하면 전체 7% 할인 적용\"\"\"\n",
        "  distinct_items = {item.product for item in order.cart}\n",
        "  if len(distinct_items) >= 10:\n",
        "    return order.total() * 0.07\n",
        "  return 0"
      ],
      "metadata": {
        "id": "PgDlGzewdvLe"
      },
      "execution_count": 28,
      "outputs": []
    },
    {
      "cell_type": "code",
      "source": [
        "Order(joe, cart, fidelity_promo)"
      ],
      "metadata": {
        "colab": {
          "base_uri": "https://localhost:8080/"
        },
        "id": "YgzXDeRnrOu4",
        "outputId": "52ac0b8b-ffa7-4e37-8db1-7e2f231779f6"
      },
      "execution_count": 24,
      "outputs": [
        {
          "output_type": "execute_result",
          "data": {
            "text/plain": [
              "<Order total: 42.00 due: 42.00>"
            ]
          },
          "metadata": {},
          "execution_count": 24
        }
      ]
    },
    {
      "cell_type": "code",
      "source": [
        "Order(ann, cart, fidelity_promo)"
      ],
      "metadata": {
        "colab": {
          "base_uri": "https://localhost:8080/"
        },
        "id": "yJLmWvrxrQcD",
        "outputId": "42c7559e-7ac5-4084-98c1-a22c0847ddda"
      },
      "execution_count": 25,
      "outputs": [
        {
          "output_type": "execute_result",
          "data": {
            "text/plain": [
              "<Order total: 42.00 due: 39.90>"
            ]
          },
          "metadata": {},
          "execution_count": 25
        }
      ]
    },
    {
      "cell_type": "code",
      "source": [
        "Order(joe, banana_cart, bulk_item_promo)"
      ],
      "metadata": {
        "colab": {
          "base_uri": "https://localhost:8080/"
        },
        "id": "WZB4t8CvrY5G",
        "outputId": "42dd7602-cf4a-4642-ac57-9e525ee5fc72"
      },
      "execution_count": 26,
      "outputs": [
        {
          "output_type": "execute_result",
          "data": {
            "text/plain": [
              "<Order total: 30.00 due: 28.50>"
            ]
          },
          "metadata": {},
          "execution_count": 26
        }
      ]
    },
    {
      "cell_type": "code",
      "source": [
        "Order(ann, long_order, large_order_promo)"
      ],
      "metadata": {
        "colab": {
          "base_uri": "https://localhost:8080/"
        },
        "id": "6GCv56Eqrf9f",
        "outputId": "37a87f5e-b5b8-48a7-bb75-28668eee8ee5"
      },
      "execution_count": 29,
      "outputs": [
        {
          "output_type": "execute_result",
          "data": {
            "text/plain": [
              "<Order total: 10.00 due: 9.30>"
            ]
          },
          "metadata": {},
          "execution_count": 29
        }
      ]
    },
    {
      "cell_type": "code",
      "source": [
        "# 예제 4번\n",
        "promos = [fidelity_promo, bulk_item_promo, large_order_promo]\n",
        "# 함수들로 구현된 전략들의 리스트\n",
        "\n",
        "def best_promo(order):\n",
        "  \"\"\"최대로 할인받을 금액을 반환\"\"\"\n",
        "  return max(promo(order) for promo in promos)"
      ],
      "metadata": {
        "id": "FNlSW9Uzr77a"
      },
      "execution_count": 30,
      "outputs": []
    },
    {
      "cell_type": "code",
      "source": [
        "# 예제 5번\n",
        "Order(joe, long_order, best_promo)"
      ],
      "metadata": {
        "colab": {
          "base_uri": "https://localhost:8080/"
        },
        "id": "wUmFAwr-sQHq",
        "outputId": "e848ba13-455c-4732-98d7-95794e4bc0bc"
      },
      "execution_count": 36,
      "outputs": [
        {
          "output_type": "execute_result",
          "data": {
            "text/plain": [
              "<Order total: 10.00 due: 9.30>"
            ]
          },
          "metadata": {},
          "execution_count": 36
        }
      ]
    },
    {
      "cell_type": "code",
      "source": [
        "Order(joe, banana_cart, best_promo)"
      ],
      "metadata": {
        "colab": {
          "base_uri": "https://localhost:8080/"
        },
        "id": "x_4dkTUOsUAi",
        "outputId": "3a400909-9496-49e6-ffe9-c3cf6fa51f52"
      },
      "execution_count": 32,
      "outputs": [
        {
          "output_type": "execute_result",
          "data": {
            "text/plain": [
              "<Order total: 30.00 due: 28.50>"
            ]
          },
          "metadata": {},
          "execution_count": 32
        }
      ]
    },
    {
      "cell_type": "code",
      "source": [
        "Order(ann, cart, best_promo)"
      ],
      "metadata": {
        "colab": {
          "base_uri": "https://localhost:8080/"
        },
        "id": "SoRO1oThsXgA",
        "outputId": "833659c6-4dd4-4533-ff4c-420fa516cafb"
      },
      "execution_count": 33,
      "outputs": [
        {
          "output_type": "execute_result",
          "data": {
            "text/plain": [
              "<Order total: 42.00 due: 39.90>"
            ]
          },
          "metadata": {},
          "execution_count": 33
        }
      ]
    },
    {
      "cell_type": "code",
      "source": [
        "globals().keys()"
      ],
      "metadata": {
        "colab": {
          "base_uri": "https://localhost:8080/"
        },
        "id": "Wnln07V5scFr",
        "outputId": "01ac8035-604e-4df6-8d05-2a7d72128c0c"
      },
      "execution_count": 34,
      "outputs": [
        {
          "output_type": "execute_result",
          "data": {
            "text/plain": [
              "dict_keys(['__name__', '__doc__', '__package__', '__loader__', '__spec__', '__builtin__', '__builtins__', '_ih', '_oh', '_dh', 'In', 'Out', 'get_ipython', 'exit', 'quit', '_', '__', '___', '_i', '_ii', '_iii', '_i1', 'ABC', 'abstractmethod', 'namedtuple', 'Customer', '_i2', 'park', '_2', '_i3', '_i4', 'LineItem', '_i5', '_i6', '_i7', 'Order', '_i8', 'Promotion', '_i9', 'FidelityPromo', 'BulkItemPromo', 'LargeOrderPromo', '_i10', 'joe', 'ann', 'cart', '_i11', '_11', '_i12', '_12', '_i13', '_i14', '_14', '_i15', '_15', '_i16', 'banana_cart', '_i17', '_17', '_i18', 'long_order', '_i19', '_19', '_i20', '_20', '_i21', '_i22', 'fidelity_promo', 'bulk_item_promo', 'large_order_promo', '_i23', '_23', '_i24', '_24', '_i25', '_25', '_i26', '_26', '_i27', '_27', '_i28', '_i29', '_29', '_i30', 'promos', 'best_promo', '_i31', '_31', '_i32', '_32', '_i33', '_33', '_i34'])"
            ]
          },
          "metadata": {},
          "execution_count": 34
        }
      ]
    },
    {
      "cell_type": "code",
      "source": [
        "globals()['best_promo']"
      ],
      "metadata": {
        "colab": {
          "base_uri": "https://localhost:8080/",
          "height": 104
        },
        "id": "L0YdQDXjsf3h",
        "outputId": "925459a3-846c-4be7-8986-61e80bc5396a"
      },
      "execution_count": 35,
      "outputs": [
        {
          "output_type": "execute_result",
          "data": {
            "text/plain": [
              "<function __main__.best_promo(order)>"
            ],
            "text/html": [
              "<div style=\"max-width:800px; border: 1px solid var(--colab-border-color);\"><style>\n",
              "      pre.function-repr-contents {\n",
              "        overflow-x: auto;\n",
              "        padding: 8px 12px;\n",
              "        max-height: 500px;\n",
              "      }\n",
              "\n",
              "      pre.function-repr-contents.function-repr-contents-collapsed {\n",
              "        cursor: pointer;\n",
              "        max-height: 100px;\n",
              "      }\n",
              "    </style>\n",
              "    <pre style=\"white-space: initial; background:\n",
              "         var(--colab-secondary-surface-color); padding: 8px 12px;\n",
              "         border-bottom: 1px solid var(--colab-border-color);\"><b>best_promo</b><br/>def best_promo(order)</pre><pre class=\"function-repr-contents function-repr-contents-collapsed\" style=\"\"><a class=\"filepath\" style=\"display:none\" href=\"#\">/content/&lt;ipython-input-30-f6d9d333537d&gt;</a>최대로 할인받을 금액을 반환</pre></div>"
            ]
          },
          "metadata": {},
          "execution_count": 35
        }
      ]
    },
    {
      "cell_type": "code",
      "source": [
        "# 예제 6번\n",
        "promos = [globals()[name] for name in globals()\n",
        "          if name.endswith('_promo')\n",
        "          and name != 'best_promo'] # 재귀호출을 피하기 위함\n",
        "promos"
      ],
      "metadata": {
        "colab": {
          "base_uri": "https://localhost:8080/"
        },
        "id": "FD--xsGEskvA",
        "outputId": "742ee432-95cf-4d28-f980-d36155bc5ed7"
      },
      "execution_count": 38,
      "outputs": [
        {
          "output_type": "execute_result",
          "data": {
            "text/plain": [
              "[<function __main__.fidelity_promo(order)>,\n",
              " <function __main__.bulk_item_promo(order)>,\n",
              " <function __main__.large_order_promo(order)>]"
            ]
          },
          "metadata": {},
          "execution_count": 38
        }
      ]
    },
    {
      "cell_type": "code",
      "source": [
        "# 07\n",
        "# 예제 1번\n",
        "def deco(func):\n",
        "  def inner():\n",
        "    print('running inner()')\n",
        "  return inner"
      ],
      "metadata": {
        "id": "V2rL-A2WtG8f"
      },
      "execution_count": 39,
      "outputs": []
    },
    {
      "cell_type": "code",
      "source": [
        "@deco\n",
        "def target():\n",
        "  print(\"running target()\")\n",
        "\n",
        "target() # 실제로는 inner()를 실행"
      ],
      "metadata": {
        "colab": {
          "base_uri": "https://localhost:8080/"
        },
        "id": "yh94SRAwtQKp",
        "outputId": "1611eec3-44b5-4195-b7b1-01d7b7108454"
      },
      "execution_count": 40,
      "outputs": [
        {
          "output_type": "stream",
          "name": "stdout",
          "text": [
            "running inner()\n"
          ]
        }
      ]
    },
    {
      "cell_type": "code",
      "source": [
        "target # inner()를 가리킴"
      ],
      "metadata": {
        "colab": {
          "base_uri": "https://localhost:8080/",
          "height": 104
        },
        "id": "_Qce17pDtaXP",
        "outputId": "d18ad52e-dbd8-4c47-ee29-d5fca2ec5d39"
      },
      "execution_count": 41,
      "outputs": [
        {
          "output_type": "execute_result",
          "data": {
            "text/plain": [
              "<function __main__.deco.<locals>.inner()>"
            ],
            "text/html": [
              "<div style=\"max-width:800px; border: 1px solid var(--colab-border-color);\"><style>\n",
              "      pre.function-repr-contents {\n",
              "        overflow-x: auto;\n",
              "        padding: 8px 12px;\n",
              "        max-height: 500px;\n",
              "      }\n",
              "\n",
              "      pre.function-repr-contents.function-repr-contents-collapsed {\n",
              "        cursor: pointer;\n",
              "        max-height: 100px;\n",
              "      }\n",
              "    </style>\n",
              "    <pre style=\"white-space: initial; background:\n",
              "         var(--colab-secondary-surface-color); padding: 8px 12px;\n",
              "         border-bottom: 1px solid var(--colab-border-color);\"><b>deco.&lt;locals&gt;.inner</b><br/>def inner()</pre><pre class=\"function-repr-contents function-repr-contents-collapsed\" style=\"\"><a class=\"filepath\" style=\"display:none\" href=\"#\">/content/&lt;ipython-input-39-53059b7b0b0a&gt;</a>&lt;no docstring&gt;</pre></div>"
            ]
          },
          "metadata": {},
          "execution_count": 41
        }
      ]
    },
    {
      "cell_type": "code",
      "source": [
        "# 예제 2번\n",
        "registry = [] # 여기에 decorated function 추가\n",
        "\n",
        "def register(func):\n",
        "  print('running register(%s)' % func)\n",
        "  registry.append(func)\n",
        "  return func\n",
        "\n",
        "@register\n",
        "def f1():\n",
        "  print('running f1()')\n",
        "\n",
        "@register\n",
        "def f2():\n",
        "  print('running f2()')\n",
        "\n",
        "def f3():\n",
        "  print('running f3()')\n",
        "\n",
        "def main():\n",
        "  print('running main()')\n",
        "  print('registry ->', registry)\n",
        "  f1()\n",
        "  f2()\n",
        "  f3()\n",
        "\n",
        "if __name__=='__main__':\n",
        "  main()"
      ],
      "metadata": {
        "colab": {
          "base_uri": "https://localhost:8080/"
        },
        "id": "nlffyDb7tgEL",
        "outputId": "9063aad5-1447-45e5-8a88-ae74fd3cccf6"
      },
      "execution_count": 42,
      "outputs": [
        {
          "output_type": "stream",
          "name": "stdout",
          "text": [
            "running register(<function f1 at 0x7e7d14730e50>)\n",
            "running register(<function f2 at 0x7e7d14733e20>)\n",
            "running main()\n",
            "registry -> [<function f1 at 0x7e7d14730e50>, <function f2 at 0x7e7d14733e20>]\n",
            "running f1()\n",
            "running f2()\n",
            "running f3()\n"
          ]
        }
      ]
    },
    {
      "cell_type": "code",
      "source": [
        "# 예제 3번\n",
        "promos = []\n",
        "\n",
        "def promotion(promo_func):\n",
        "  \"\"\"promotion() decorater는 promo_func를 promos 리스트에 추가한 후 그대로 반환\"\"\"\n",
        "  promos.append(promo_func)\n",
        "  return promo_func\n",
        "\n",
        "@promotion\n",
        "def fidelity_promo(order):\n",
        "  \"\"\"충성도 점수가 1000점 이상인 고객에게 전체 5% 할인 적용\"\"\"\n",
        "  return order.total() * 0.05 if order.customer.fidelity >= 1000 else 0\n",
        "\n",
        "@promotion\n",
        "def bulk_item_promo(order):\n",
        "  \"\"\"20개 이상의 동일 상품을 구입하면 10% 할인 적용\"\"\"\n",
        "  discount = 0\n",
        "  for item in order.cart:\n",
        "    if item.quantity >= 20:\n",
        "      discount += item.total() * 0.1\n",
        "  return discount\n",
        "\n",
        "@promotion\n",
        "def large_order_promo(order):\n",
        "  \"\"\"10종류 이상의 상품을 구입하면 전체 7% 할인 적용\"\"\"\n",
        "  distinct_items = {item.product for item in order.cart}\n",
        "  if len(distinct_items) >= 10:\n",
        "    return order.total() * 0.07\n",
        "  return 0\n",
        "\n",
        "def best_promo(order):\n",
        "  \"\"\"최대로 할인받을 금액을 반환한다\"\"\"\n",
        "  return max(promo(order) for promo in promos)"
      ],
      "metadata": {
        "id": "jnHR3Ey7uP51"
      },
      "execution_count": 43,
      "outputs": []
    },
    {
      "cell_type": "code",
      "source": [
        "# 예제 4번\n",
        "def f1(a):\n",
        "  print(a)\n",
        "  print(b)\n",
        "\n",
        "f1(3)"
      ],
      "metadata": {
        "colab": {
          "base_uri": "https://localhost:8080/",
          "height": 332
        },
        "id": "sL1kdSY0vF9i",
        "outputId": "65b7fce0-803b-4090-fb41-c8a5564034b1"
      },
      "execution_count": 44,
      "outputs": [
        {
          "output_type": "stream",
          "name": "stdout",
          "text": [
            "3\n"
          ]
        },
        {
          "output_type": "error",
          "ename": "NameError",
          "evalue": "name 'b' is not defined",
          "traceback": [
            "\u001b[0;31m---------------------------------------------------------------------------\u001b[0m",
            "\u001b[0;31mNameError\u001b[0m                                 Traceback (most recent call last)",
            "\u001b[0;32m<ipython-input-44-bcde8c5bd0ca>\u001b[0m in \u001b[0;36m<cell line: 6>\u001b[0;34m()\u001b[0m\n\u001b[1;32m      4\u001b[0m   \u001b[0mprint\u001b[0m\u001b[0;34m(\u001b[0m\u001b[0mb\u001b[0m\u001b[0;34m)\u001b[0m\u001b[0;34m\u001b[0m\u001b[0;34m\u001b[0m\u001b[0m\n\u001b[1;32m      5\u001b[0m \u001b[0;34m\u001b[0m\u001b[0m\n\u001b[0;32m----> 6\u001b[0;31m \u001b[0mf1\u001b[0m\u001b[0;34m(\u001b[0m\u001b[0;36m3\u001b[0m\u001b[0;34m)\u001b[0m\u001b[0;34m\u001b[0m\u001b[0;34m\u001b[0m\u001b[0m\n\u001b[0m",
            "\u001b[0;32m<ipython-input-44-bcde8c5bd0ca>\u001b[0m in \u001b[0;36mf1\u001b[0;34m(a)\u001b[0m\n\u001b[1;32m      2\u001b[0m \u001b[0;32mdef\u001b[0m \u001b[0mf1\u001b[0m\u001b[0;34m(\u001b[0m\u001b[0ma\u001b[0m\u001b[0;34m)\u001b[0m\u001b[0;34m:\u001b[0m\u001b[0;34m\u001b[0m\u001b[0;34m\u001b[0m\u001b[0m\n\u001b[1;32m      3\u001b[0m   \u001b[0mprint\u001b[0m\u001b[0;34m(\u001b[0m\u001b[0ma\u001b[0m\u001b[0;34m)\u001b[0m\u001b[0;34m\u001b[0m\u001b[0;34m\u001b[0m\u001b[0m\n\u001b[0;32m----> 4\u001b[0;31m   \u001b[0mprint\u001b[0m\u001b[0;34m(\u001b[0m\u001b[0mb\u001b[0m\u001b[0;34m)\u001b[0m\u001b[0;34m\u001b[0m\u001b[0;34m\u001b[0m\u001b[0m\n\u001b[0m\u001b[1;32m      5\u001b[0m \u001b[0;34m\u001b[0m\u001b[0m\n\u001b[1;32m      6\u001b[0m \u001b[0mf1\u001b[0m\u001b[0;34m(\u001b[0m\u001b[0;36m3\u001b[0m\u001b[0;34m)\u001b[0m\u001b[0;34m\u001b[0m\u001b[0;34m\u001b[0m\u001b[0m\n",
            "\u001b[0;31mNameError\u001b[0m: name 'b' is not defined"
          ]
        }
      ]
    },
    {
      "cell_type": "code",
      "source": [
        "b=6\n",
        "f1(3)"
      ],
      "metadata": {
        "colab": {
          "base_uri": "https://localhost:8080/"
        },
        "id": "XqXs32sJvLj7",
        "outputId": "87500d09-c5d7-46c2-ead9-4f6a43fa6521"
      },
      "execution_count": 45,
      "outputs": [
        {
          "output_type": "stream",
          "name": "stdout",
          "text": [
            "3\n",
            "6\n"
          ]
        }
      ]
    },
    {
      "cell_type": "code",
      "source": [
        "# 예제 5번\n",
        "def f2(a):\n",
        "  print(a)\n",
        "  print(b)\n",
        "  b=9\n",
        "\n",
        "f2(3)"
      ],
      "metadata": {
        "colab": {
          "base_uri": "https://localhost:8080/",
          "height": 332
        },
        "id": "QU2Xbna8vPpE",
        "outputId": "90555d9e-294f-4c66-dfb7-bf75ca50a912"
      },
      "execution_count": 46,
      "outputs": [
        {
          "output_type": "stream",
          "name": "stdout",
          "text": [
            "3\n"
          ]
        },
        {
          "output_type": "error",
          "ename": "UnboundLocalError",
          "evalue": "local variable 'b' referenced before assignment",
          "traceback": [
            "\u001b[0;31m---------------------------------------------------------------------------\u001b[0m",
            "\u001b[0;31mUnboundLocalError\u001b[0m                         Traceback (most recent call last)",
            "\u001b[0;32m<ipython-input-46-f90a2ef853f4>\u001b[0m in \u001b[0;36m<cell line: 7>\u001b[0;34m()\u001b[0m\n\u001b[1;32m      5\u001b[0m   \u001b[0mb\u001b[0m\u001b[0;34m=\u001b[0m\u001b[0;36m9\u001b[0m\u001b[0;34m\u001b[0m\u001b[0;34m\u001b[0m\u001b[0m\n\u001b[1;32m      6\u001b[0m \u001b[0;34m\u001b[0m\u001b[0m\n\u001b[0;32m----> 7\u001b[0;31m \u001b[0mf2\u001b[0m\u001b[0;34m(\u001b[0m\u001b[0;36m3\u001b[0m\u001b[0;34m)\u001b[0m\u001b[0;34m\u001b[0m\u001b[0;34m\u001b[0m\u001b[0m\n\u001b[0m",
            "\u001b[0;32m<ipython-input-46-f90a2ef853f4>\u001b[0m in \u001b[0;36mf2\u001b[0;34m(a)\u001b[0m\n\u001b[1;32m      2\u001b[0m \u001b[0;32mdef\u001b[0m \u001b[0mf2\u001b[0m\u001b[0;34m(\u001b[0m\u001b[0ma\u001b[0m\u001b[0;34m)\u001b[0m\u001b[0;34m:\u001b[0m\u001b[0;34m\u001b[0m\u001b[0;34m\u001b[0m\u001b[0m\n\u001b[1;32m      3\u001b[0m   \u001b[0mprint\u001b[0m\u001b[0;34m(\u001b[0m\u001b[0ma\u001b[0m\u001b[0;34m)\u001b[0m\u001b[0;34m\u001b[0m\u001b[0;34m\u001b[0m\u001b[0m\n\u001b[0;32m----> 4\u001b[0;31m   \u001b[0mprint\u001b[0m\u001b[0;34m(\u001b[0m\u001b[0mb\u001b[0m\u001b[0;34m)\u001b[0m\u001b[0;34m\u001b[0m\u001b[0;34m\u001b[0m\u001b[0m\n\u001b[0m\u001b[1;32m      5\u001b[0m   \u001b[0mb\u001b[0m\u001b[0;34m=\u001b[0m\u001b[0;36m9\u001b[0m\u001b[0;34m\u001b[0m\u001b[0;34m\u001b[0m\u001b[0m\n\u001b[1;32m      6\u001b[0m \u001b[0;34m\u001b[0m\u001b[0m\n",
            "\u001b[0;31mUnboundLocalError\u001b[0m: local variable 'b' referenced before assignment"
          ]
        }
      ]
    },
    {
      "cell_type": "code",
      "source": [
        "# 예제 6번\n",
        "b = 6\n",
        "def f3(a):\n",
        "  global b\n",
        "  print(a)\n",
        "  print(b)\n",
        "  b = 9\n",
        "\n",
        "f3(3)"
      ],
      "metadata": {
        "colab": {
          "base_uri": "https://localhost:8080/"
        },
        "id": "vTI_hIDuvXGm",
        "outputId": "16880c13-ac62-438a-b51f-e4d87e8ee64d"
      },
      "execution_count": 47,
      "outputs": [
        {
          "output_type": "stream",
          "name": "stdout",
          "text": [
            "3\n",
            "6\n"
          ]
        }
      ]
    },
    {
      "cell_type": "code",
      "source": [
        "b"
      ],
      "metadata": {
        "colab": {
          "base_uri": "https://localhost:8080/"
        },
        "id": "u5ZSv29IveuX",
        "outputId": "5adfa597-b253-48fe-f7a1-16f1b0baf585"
      },
      "execution_count": 48,
      "outputs": [
        {
          "output_type": "execute_result",
          "data": {
            "text/plain": [
              "9"
            ]
          },
          "metadata": {},
          "execution_count": 48
        }
      ]
    },
    {
      "cell_type": "code",
      "source": [
        "f3(3)"
      ],
      "metadata": {
        "colab": {
          "base_uri": "https://localhost:8080/"
        },
        "id": "1eWfabOKvfpH",
        "outputId": "c10cbb7f-9039-4c1d-aee2-98f47c5d68c1"
      },
      "execution_count": 49,
      "outputs": [
        {
          "output_type": "stream",
          "name": "stdout",
          "text": [
            "3\n",
            "9\n"
          ]
        }
      ]
    },
    {
      "cell_type": "code",
      "source": [
        "b=30\n",
        "f3(3)"
      ],
      "metadata": {
        "colab": {
          "base_uri": "https://localhost:8080/"
        },
        "id": "VIikH7myvhBX",
        "outputId": "3c4ea243-8ec2-49db-c27f-b4847e9725f0"
      },
      "execution_count": 50,
      "outputs": [
        {
          "output_type": "stream",
          "name": "stdout",
          "text": [
            "3\n",
            "30\n"
          ]
        }
      ]
    },
    {
      "cell_type": "code",
      "source": [
        "# 예제 7번\n",
        "class Averager():\n",
        "  def __init__(self):\n",
        "    self.series = []\n",
        "\n",
        "  def __call__(self, new_value):\n",
        "    self.series.append(new_value)\n",
        "    total = sum(self.series)\n",
        "    return total/len(self.series)"
      ],
      "metadata": {
        "id": "geDSMcWyvj-9"
      },
      "execution_count": 51,
      "outputs": []
    },
    {
      "cell_type": "code",
      "source": [
        "avg = Averager()\n",
        "avg(10)"
      ],
      "metadata": {
        "colab": {
          "base_uri": "https://localhost:8080/"
        },
        "id": "ly_DIVbdv29V",
        "outputId": "36ce91d6-314a-42d1-d17d-aeb283debd52"
      },
      "execution_count": 52,
      "outputs": [
        {
          "output_type": "execute_result",
          "data": {
            "text/plain": [
              "10.0"
            ]
          },
          "metadata": {},
          "execution_count": 52
        }
      ]
    },
    {
      "cell_type": "code",
      "source": [
        "avg(11)"
      ],
      "metadata": {
        "colab": {
          "base_uri": "https://localhost:8080/"
        },
        "id": "e297k5R9v5xz",
        "outputId": "6c98cc8c-ff71-4f88-e1e0-5cede2715d1d"
      },
      "execution_count": 53,
      "outputs": [
        {
          "output_type": "execute_result",
          "data": {
            "text/plain": [
              "10.5"
            ]
          },
          "metadata": {},
          "execution_count": 53
        }
      ]
    },
    {
      "cell_type": "code",
      "source": [
        "avg(12)"
      ],
      "metadata": {
        "colab": {
          "base_uri": "https://localhost:8080/"
        },
        "id": "ilRpw3Eev7OA",
        "outputId": "72aa93cc-4845-4db4-e249-3a92a0838619"
      },
      "execution_count": 54,
      "outputs": [
        {
          "output_type": "execute_result",
          "data": {
            "text/plain": [
              "11.0"
            ]
          },
          "metadata": {},
          "execution_count": 54
        }
      ]
    },
    {
      "cell_type": "code",
      "source": [
        "# 예제 8번\n",
        "def make_averager():\n",
        "  series = []\n",
        "\n",
        "  def averager(new_value):\n",
        "    series.append(new_value)\n",
        "    total = sum(series)\n",
        "    return total/len(series)\n",
        "\n",
        "  return averager"
      ],
      "metadata": {
        "id": "w-spaeJmv9c_"
      },
      "execution_count": 55,
      "outputs": []
    },
    {
      "cell_type": "code",
      "source": [
        "avg = make_averager()\n",
        "avg(10)"
      ],
      "metadata": {
        "colab": {
          "base_uri": "https://localhost:8080/"
        },
        "id": "1IrI9hg_wMWI",
        "outputId": "576484d9-717d-4542-8cf3-64f331d994d1"
      },
      "execution_count": 56,
      "outputs": [
        {
          "output_type": "execute_result",
          "data": {
            "text/plain": [
              "10.0"
            ]
          },
          "metadata": {},
          "execution_count": 56
        }
      ]
    },
    {
      "cell_type": "code",
      "source": [
        "avg(11)"
      ],
      "metadata": {
        "colab": {
          "base_uri": "https://localhost:8080/"
        },
        "id": "TNVnA6dcwPwE",
        "outputId": "14f72fb3-c021-4d8b-f37a-636dc42ab675"
      },
      "execution_count": 57,
      "outputs": [
        {
          "output_type": "execute_result",
          "data": {
            "text/plain": [
              "10.5"
            ]
          },
          "metadata": {},
          "execution_count": 57
        }
      ]
    },
    {
      "cell_type": "code",
      "source": [
        "avg(12)"
      ],
      "metadata": {
        "colab": {
          "base_uri": "https://localhost:8080/"
        },
        "id": "XzsH_D8GwQ56",
        "outputId": "17acb048-4d18-43fa-9848-73e0fbcee309"
      },
      "execution_count": 58,
      "outputs": [
        {
          "output_type": "execute_result",
          "data": {
            "text/plain": [
              "11.0"
            ]
          },
          "metadata": {},
          "execution_count": 58
        }
      ]
    },
    {
      "cell_type": "code",
      "source": [
        "# 예제 9번\n",
        "avg.__code__.co_varnames"
      ],
      "metadata": {
        "colab": {
          "base_uri": "https://localhost:8080/"
        },
        "id": "cff92IKEwR1U",
        "outputId": "36ae14f6-8b48-4d55-ae16-9fb17b786f46"
      },
      "execution_count": 59,
      "outputs": [
        {
          "output_type": "execute_result",
          "data": {
            "text/plain": [
              "('new_value', 'total')"
            ]
          },
          "metadata": {},
          "execution_count": 59
        }
      ]
    },
    {
      "cell_type": "code",
      "source": [
        "avg.__code__.co_freevars"
      ],
      "metadata": {
        "colab": {
          "base_uri": "https://localhost:8080/"
        },
        "id": "m8vKjPr3wc6c",
        "outputId": "93a8bb14-dd98-4665-a909-4c19bf0a6321"
      },
      "execution_count": 60,
      "outputs": [
        {
          "output_type": "execute_result",
          "data": {
            "text/plain": [
              "('series',)"
            ]
          },
          "metadata": {},
          "execution_count": 60
        }
      ]
    },
    {
      "cell_type": "code",
      "source": [
        "avg.__closure__"
      ],
      "metadata": {
        "colab": {
          "base_uri": "https://localhost:8080/"
        },
        "id": "sfyBow4-wgJy",
        "outputId": "3256d874-0111-4151-e2a9-6d8e3f9a0147"
      },
      "execution_count": 61,
      "outputs": [
        {
          "output_type": "execute_result",
          "data": {
            "text/plain": [
              "(<cell at 0x7e7d14a36dd0: list object at 0x7e7d147d36c0>,)"
            ]
          },
          "metadata": {},
          "execution_count": 61
        }
      ]
    },
    {
      "cell_type": "code",
      "source": [
        "avg.__closure__[0].cell_contents"
      ],
      "metadata": {
        "colab": {
          "base_uri": "https://localhost:8080/"
        },
        "id": "e3jTjDl9wizc",
        "outputId": "48f76fd2-ba5d-4daa-8c56-3e3ae811436d"
      },
      "execution_count": 62,
      "outputs": [
        {
          "output_type": "execute_result",
          "data": {
            "text/plain": [
              "[10, 11, 12]"
            ]
          },
          "metadata": {},
          "execution_count": 62
        }
      ]
    },
    {
      "cell_type": "code",
      "source": [
        "# 예제 10번\n",
        "def make_averager():\n",
        "  count = 0\n",
        "  total = 0\n",
        "\n",
        "  def averager(new_value):\n",
        "    count += 1\n",
        "    total += new_value\n",
        "    return total / count\n",
        "\n",
        "  return averager"
      ],
      "metadata": {
        "id": "jUbVcMBtwoYx"
      },
      "execution_count": 63,
      "outputs": []
    },
    {
      "cell_type": "code",
      "source": [
        "avg = make_averager()\n",
        "avg(10)"
      ],
      "metadata": {
        "colab": {
          "base_uri": "https://localhost:8080/",
          "height": 295
        },
        "id": "9A33z9nIw1ap",
        "outputId": "a3554d71-6f91-4828-af47-bb18336af515"
      },
      "execution_count": 64,
      "outputs": [
        {
          "output_type": "error",
          "ename": "UnboundLocalError",
          "evalue": "local variable 'count' referenced before assignment",
          "traceback": [
            "\u001b[0;31m---------------------------------------------------------------------------\u001b[0m",
            "\u001b[0;31mUnboundLocalError\u001b[0m                         Traceback (most recent call last)",
            "\u001b[0;32m<ipython-input-64-b5a6bb6dc4cd>\u001b[0m in \u001b[0;36m<cell line: 2>\u001b[0;34m()\u001b[0m\n\u001b[1;32m      1\u001b[0m \u001b[0mavg\u001b[0m \u001b[0;34m=\u001b[0m \u001b[0mmake_averager\u001b[0m\u001b[0;34m(\u001b[0m\u001b[0;34m)\u001b[0m\u001b[0;34m\u001b[0m\u001b[0;34m\u001b[0m\u001b[0m\n\u001b[0;32m----> 2\u001b[0;31m \u001b[0mavg\u001b[0m\u001b[0;34m(\u001b[0m\u001b[0;36m10\u001b[0m\u001b[0;34m)\u001b[0m\u001b[0;34m\u001b[0m\u001b[0;34m\u001b[0m\u001b[0m\n\u001b[0m",
            "\u001b[0;32m<ipython-input-63-2e07aad56fee>\u001b[0m in \u001b[0;36maverager\u001b[0;34m(new_value)\u001b[0m\n\u001b[1;32m      5\u001b[0m \u001b[0;34m\u001b[0m\u001b[0m\n\u001b[1;32m      6\u001b[0m   \u001b[0;32mdef\u001b[0m \u001b[0maverager\u001b[0m\u001b[0;34m(\u001b[0m\u001b[0mnew_value\u001b[0m\u001b[0;34m)\u001b[0m\u001b[0;34m:\u001b[0m\u001b[0;34m\u001b[0m\u001b[0;34m\u001b[0m\u001b[0m\n\u001b[0;32m----> 7\u001b[0;31m     \u001b[0mcount\u001b[0m \u001b[0;34m+=\u001b[0m \u001b[0;36m1\u001b[0m\u001b[0;34m\u001b[0m\u001b[0;34m\u001b[0m\u001b[0m\n\u001b[0m\u001b[1;32m      8\u001b[0m     \u001b[0mtotal\u001b[0m \u001b[0;34m+=\u001b[0m \u001b[0mnew_value\u001b[0m\u001b[0;34m\u001b[0m\u001b[0;34m\u001b[0m\u001b[0m\n\u001b[1;32m      9\u001b[0m     \u001b[0;32mreturn\u001b[0m \u001b[0mtotal\u001b[0m \u001b[0;34m/\u001b[0m \u001b[0mcount\u001b[0m\u001b[0;34m\u001b[0m\u001b[0;34m\u001b[0m\u001b[0m\n",
            "\u001b[0;31mUnboundLocalError\u001b[0m: local variable 'count' referenced before assignment"
          ]
        }
      ]
    },
    {
      "cell_type": "code",
      "source": [
        "# 예제 11번\n",
        "def make_averager():\n",
        "  count = 0\n",
        "  total = 0\n",
        "\n",
        "  def averager(new_value):\n",
        "    nonlocal count, total\n",
        "    count += 1\n",
        "    total += new_value\n",
        "    return total / count\n",
        "\n",
        "  return averager"
      ],
      "metadata": {
        "id": "tQzqfOOGw6QU"
      },
      "execution_count": 65,
      "outputs": []
    },
    {
      "cell_type": "code",
      "source": [
        "avg = make_averager()\n",
        "avg(10)"
      ],
      "metadata": {
        "colab": {
          "base_uri": "https://localhost:8080/"
        },
        "id": "EXJzPZV9xJNV",
        "outputId": "33f0cb2c-3040-469a-c95e-6345d1af881c"
      },
      "execution_count": 66,
      "outputs": [
        {
          "output_type": "execute_result",
          "data": {
            "text/plain": [
              "10.0"
            ]
          },
          "metadata": {},
          "execution_count": 66
        }
      ]
    },
    {
      "cell_type": "code",
      "source": [
        "# 예제 12번\n",
        "import time\n",
        "\n",
        "def clock(func):\n",
        "  def clocked(*args):\n",
        "    t0 = time.perf_counter()\n",
        "    result = func(*args)\n",
        "    elapsed = time.perf_counter() - t0\n",
        "    name = func.__name__\n",
        "    arg_str = ', '.join(repr(arg) for arg in args)\n",
        "    print('[%0.8fs] %s(%s) -> %r' % (elapsed, name, arg_str, result))\n",
        "    return result\n",
        "  return clocked"
      ],
      "metadata": {
        "id": "oH3P60gXxNYi"
      },
      "execution_count": 67,
      "outputs": []
    },
    {
      "cell_type": "code",
      "source": [
        "# 예제 13번\n",
        "@clock\n",
        "def snooze(seconds):\n",
        "  time.sleep(seconds)\n",
        "\n",
        "@clock\n",
        "def factorial(n):\n",
        "  return 1 if n < 2 else n*factorial(n-1)\n",
        "\n",
        "if __name__=='__main__':\n",
        "  print('*'*40, 'Calling snooze(.123)')\n",
        "  snooze(.123)\n",
        "  print('*'*40, 'Calling factorial(6)')\n",
        "  print('6! =', factorial(6))"
      ],
      "metadata": {
        "colab": {
          "base_uri": "https://localhost:8080/"
        },
        "id": "l4C2eR9-xyIz",
        "outputId": "ecd9193b-1816-4c35-eee2-a87fd0dec8ac"
      },
      "execution_count": 70,
      "outputs": [
        {
          "output_type": "stream",
          "name": "stdout",
          "text": [
            "**************************************** Calling snooze(.123)\n",
            "[0.12318994s] snooze(0.123) -> None\n",
            "**************************************** Calling factorial(6)\n",
            "[0.00000087s] factorial(1) -> 1\n",
            "[0.00003492s] factorial(2) -> 2\n",
            "[0.00006209s] factorial(3) -> 6\n",
            "[0.00008844s] factorial(4) -> 24\n",
            "[0.00011175s] factorial(5) -> 120\n",
            "[0.00015207s] factorial(6) -> 720\n",
            "6! = 720\n"
          ]
        }
      ]
    },
    {
      "cell_type": "code",
      "source": [
        "factorial.__name__"
      ],
      "metadata": {
        "colab": {
          "base_uri": "https://localhost:8080/",
          "height": 35
        },
        "id": "bOqRLR5fyTBr",
        "outputId": "98813e7d-2e35-41d6-ad3f-617ef966f3db"
      },
      "execution_count": 71,
      "outputs": [
        {
          "output_type": "execute_result",
          "data": {
            "text/plain": [
              "'clocked'"
            ],
            "application/vnd.google.colaboratory.intrinsic+json": {
              "type": "string"
            }
          },
          "metadata": {},
          "execution_count": 71
        }
      ]
    },
    {
      "cell_type": "code",
      "source": [
        "# 예제 14번\n",
        "import time\n",
        "import functools\n",
        "\n",
        "def clock(func):\n",
        "  @functools.wraps(func)\n",
        "  def clocked(*args,**kwargs):\n",
        "    t0 = time.time()\n",
        "    result = func(*args, **kwargs)\n",
        "    elapsed = time.time() - t0\n",
        "    arg_lst = []\n",
        "    name = func.__name__\n",
        "    if args:\n",
        "      arg_lst.append(', '.join(repr(arg) for arg in args))\n",
        "    if kwargs:\n",
        "      pairs = ['%s=%r' % (k,w) for k,w in sorted(kwargs.items())]\n",
        "      arg_lst.append(', '.join(pairs))\n",
        "    arg_str = ', '.join(arg_lst)\n",
        "    print('[%0.8fs] %s(%s) -> %r' % (elapsed, name, arg_str, result))\n",
        "    return result\n",
        "  return clocked"
      ],
      "metadata": {
        "id": "L748ubKnya7O"
      },
      "execution_count": 72,
      "outputs": []
    },
    {
      "cell_type": "code",
      "source": [
        "@clock\n",
        "def snooze(seconds):\n",
        "  time.sleep(seconds)\n",
        "\n",
        "@clock\n",
        "def factorial(n):\n",
        "  return 1 if n < 2 else n*factorial(n-1)\n",
        "\n",
        "if __name__=='__main__':\n",
        "  print('*'*40, 'Calling snooze(.123)')\n",
        "  snooze(.123)\n",
        "  print('*'*40, 'Calling factorial(6)')\n",
        "  print('6! =', factorial(6))"
      ],
      "metadata": {
        "colab": {
          "base_uri": "https://localhost:8080/"
        },
        "id": "Zb5ctcVGzXSh",
        "outputId": "ddb3562d-8c64-4913-f783-0e15b6085ba5"
      },
      "execution_count": 73,
      "outputs": [
        {
          "output_type": "stream",
          "name": "stdout",
          "text": [
            "**************************************** Calling snooze(.123)\n",
            "[0.12309003s] snooze(0.123) -> None\n",
            "**************************************** Calling factorial(6)\n",
            "[0.00001097s] factorial(1) -> 1\n",
            "[0.00218654s] factorial(2) -> 2\n",
            "[0.00226712s] factorial(3) -> 6\n",
            "[0.00229287s] factorial(4) -> 24\n",
            "[0.00231385s] factorial(5) -> 120\n",
            "[0.00233746s] factorial(6) -> 720\n",
            "6! = 720\n"
          ]
        }
      ]
    },
    {
      "cell_type": "code",
      "source": [
        "factorial.__name__"
      ],
      "metadata": {
        "colab": {
          "base_uri": "https://localhost:8080/",
          "height": 35
        },
        "id": "4e2VsUTlzd1u",
        "outputId": "797fd590-f743-485d-a827-89d37edc92a5"
      },
      "execution_count": 74,
      "outputs": [
        {
          "output_type": "execute_result",
          "data": {
            "text/plain": [
              "'factorial'"
            ],
            "application/vnd.google.colaboratory.intrinsic+json": {
              "type": "string"
            }
          },
          "metadata": {},
          "execution_count": 74
        }
      ]
    }
  ]
}