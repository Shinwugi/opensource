{
  "nbformat": 4,
  "nbformat_minor": 0,
  "metadata": {
    "colab": {
      "provenance": []
    },
    "kernelspec": {
      "name": "python3",
      "display_name": "Python 3"
    },
    "language_info": {
      "name": "python"
    }
  },
  "cells": [
    {
      "cell_type": "code",
      "execution_count": 1,
      "metadata": {
        "id": "zOs71dpvGHG8",
        "colab": {
          "base_uri": "https://localhost:8080/"
        },
        "outputId": "108272fb-5b35-4787-f59e-9362896b4db2"
      },
      "outputs": [
        {
          "output_type": "execute_result",
          "data": {
            "text/plain": [
              "4"
            ]
          },
          "metadata": {},
          "execution_count": 1
        }
      ],
      "source": [
        "#예제 10\n",
        "open('cafe.txt', 'w', encoding='utf8').write('café')"
      ]
    },
    {
      "cell_type": "code",
      "source": [
        "open('cafe.txt').read()"
      ],
      "metadata": {
        "id": "_u07jBiAIUN0",
        "colab": {
          "base_uri": "https://localhost:8080/",
          "height": 35
        },
        "outputId": "cd0ed854-ed73-429f-f1c3-0528ba407e76"
      },
      "execution_count": 2,
      "outputs": [
        {
          "output_type": "execute_result",
          "data": {
            "text/plain": [
              "'café'"
            ],
            "application/vnd.google.colaboratory.intrinsic+json": {
              "type": "string"
            }
          },
          "metadata": {},
          "execution_count": 2
        }
      ]
    },
    {
      "cell_type": "code",
      "source": [
        "#예제 11\n",
        "import sys, locale\n",
        "\n",
        "expressions = \"\"\"\n",
        "      locale.getpreferredencoding()\n",
        "      type(my_file)\n",
        "      my_file.encoding\n",
        "      sys.stdout.isatty()\n",
        "      sys.stdout.encoding\n",
        "      sys.stdin.isatty()\n",
        "      sys.stdin.encoding\n",
        "      sys.stderr.isatty()\n",
        "      sys.stderr.encoding\n",
        "      sys.getdefaultencoding()\n",
        "      sys.getfilesystemencoding()\n",
        "  \"\"\"\n",
        "\n",
        "my_file = open('dummy', 'w')\n",
        "\n",
        "for expression in expressions.split():\n",
        "  value = eval(expression)\n",
        "  print(expression.rjust(30), '->', repr(value))"
      ],
      "metadata": {
        "id": "XcuuVH0dIdxY",
        "colab": {
          "base_uri": "https://localhost:8080/"
        },
        "outputId": "85a7af23-156b-49f0-8c1d-89c0627b66a6"
      },
      "execution_count": 3,
      "outputs": [
        {
          "output_type": "stream",
          "name": "stdout",
          "text": [
            " locale.getpreferredencoding() -> 'UTF-8'\n",
            "                 type(my_file) -> <class '_io.TextIOWrapper'>\n",
            "              my_file.encoding -> 'UTF-8'\n",
            "           sys.stdout.isatty() -> False\n",
            "           sys.stdout.encoding -> 'UTF-8'\n",
            "            sys.stdin.isatty() -> False\n",
            "            sys.stdin.encoding -> 'utf-8'\n",
            "           sys.stderr.isatty() -> False\n",
            "           sys.stderr.encoding -> 'UTF-8'\n",
            "      sys.getdefaultencoding() -> 'utf-8'\n",
            "   sys.getfilesystemencoding() -> 'utf-8'\n"
          ]
        }
      ]
    },
    {
      "cell_type": "code",
      "source": [
        "#예제 12\n",
        "from unicodedata import normalize\n",
        "s1 = 'café'\n",
        "s2 = 'cafe\\u0301'\n",
        "len(normalize('NFC', s1)), len(normalize('NFC', s2))"
      ],
      "metadata": {
        "id": "69KaNjwWJjQ1",
        "colab": {
          "base_uri": "https://localhost:8080/"
        },
        "outputId": "1bf13d49-c17a-4578-866e-025f05316c9f"
      },
      "execution_count": 21,
      "outputs": [
        {
          "output_type": "execute_result",
          "data": {
            "text/plain": [
              "(4, 4)"
            ]
          },
          "metadata": {},
          "execution_count": 21
        }
      ]
    },
    {
      "cell_type": "code",
      "source": [
        "len(normalize('NFD', s1)), len(normalize('NFD', s2))"
      ],
      "metadata": {
        "id": "Z-n2ZeTcJwqK",
        "colab": {
          "base_uri": "https://localhost:8080/"
        },
        "outputId": "e9a202fa-3bb0-46c3-b65f-157189491f36"
      },
      "execution_count": 22,
      "outputs": [
        {
          "output_type": "execute_result",
          "data": {
            "text/plain": [
              "(5, 5)"
            ]
          },
          "metadata": {},
          "execution_count": 22
        }
      ]
    },
    {
      "cell_type": "code",
      "source": [
        "normalize('NFC', s1), normalize('NFC', s2)"
      ],
      "metadata": {
        "id": "geXRXBHSJ7Gq",
        "colab": {
          "base_uri": "https://localhost:8080/"
        },
        "outputId": "3b0030a3-c2b0-494b-e479-257092e693ac"
      },
      "execution_count": 23,
      "outputs": [
        {
          "output_type": "execute_result",
          "data": {
            "text/plain": [
              "('café', 'café')"
            ]
          },
          "metadata": {},
          "execution_count": 23
        }
      ]
    },
    {
      "cell_type": "code",
      "source": [
        "normalize('NFD', s1), normalize('NFD', s2)"
      ],
      "metadata": {
        "id": "GHK0TX9PKEmX",
        "colab": {
          "base_uri": "https://localhost:8080/"
        },
        "outputId": "f46fd9ae-f46a-486b-d42d-7ea86f3812f7"
      },
      "execution_count": 24,
      "outputs": [
        {
          "output_type": "execute_result",
          "data": {
            "text/plain": [
              "('café', 'café')"
            ]
          },
          "metadata": {},
          "execution_count": 24
        }
      ]
    },
    {
      "cell_type": "code",
      "source": [
        "normalize('NFC', s1) == normalize('NFC', s2)"
      ],
      "metadata": {
        "id": "wNtZOZbjKJgB",
        "colab": {
          "base_uri": "https://localhost:8080/"
        },
        "outputId": "7428862b-4df8-430d-c448-c9216a083fb9"
      },
      "execution_count": 25,
      "outputs": [
        {
          "output_type": "execute_result",
          "data": {
            "text/plain": [
              "True"
            ]
          },
          "metadata": {},
          "execution_count": 25
        }
      ]
    },
    {
      "cell_type": "code",
      "source": [
        "normalize('NFD', s1) == normalize('NFD', s2)"
      ],
      "metadata": {
        "id": "EXwy4_X-KNWY",
        "colab": {
          "base_uri": "https://localhost:8080/"
        },
        "outputId": "46207565-33e0-431b-f316-17babeb9455e"
      },
      "execution_count": 26,
      "outputs": [
        {
          "output_type": "execute_result",
          "data": {
            "text/plain": [
              "True"
            ]
          },
          "metadata": {},
          "execution_count": 26
        }
      ]
    },
    {
      "cell_type": "code",
      "source": [
        "#예제 13\n",
        "from unicodedata import normalize, name\n",
        "ohm = '\\u2126'\n",
        "name(ohm)"
      ],
      "metadata": {
        "id": "YbQWB1tcKUpE",
        "colab": {
          "base_uri": "https://localhost:8080/",
          "height": 35
        },
        "outputId": "962b97a6-48db-4045-8f92-99f280423789"
      },
      "execution_count": 5,
      "outputs": [
        {
          "output_type": "execute_result",
          "data": {
            "text/plain": [
              "'OHM SIGN'"
            ],
            "application/vnd.google.colaboratory.intrinsic+json": {
              "type": "string"
            }
          },
          "metadata": {},
          "execution_count": 5
        }
      ]
    },
    {
      "cell_type": "code",
      "source": [
        "ohm_c = normalize('NFC', ohm)\n",
        "name(ohm_c)"
      ],
      "metadata": {
        "id": "hT4bur9xKeGZ",
        "colab": {
          "base_uri": "https://localhost:8080/",
          "height": 35
        },
        "outputId": "6c4703c6-8b92-411f-f956-3d0b5f0a0801"
      },
      "execution_count": 6,
      "outputs": [
        {
          "output_type": "execute_result",
          "data": {
            "text/plain": [
              "'GREEK CAPITAL LETTER OMEGA'"
            ],
            "application/vnd.google.colaboratory.intrinsic+json": {
              "type": "string"
            }
          },
          "metadata": {},
          "execution_count": 6
        }
      ]
    },
    {
      "cell_type": "code",
      "source": [
        "ohm, ohm_c, ohm == ohm_c"
      ],
      "metadata": {
        "id": "GEhFGZ0_KjlG",
        "colab": {
          "base_uri": "https://localhost:8080/"
        },
        "outputId": "7a2a5056-c20f-4a56-e0f8-e07a3f8093c5"
      },
      "execution_count": 7,
      "outputs": [
        {
          "output_type": "execute_result",
          "data": {
            "text/plain": [
              "('Ω', 'Ω', False)"
            ]
          },
          "metadata": {},
          "execution_count": 7
        }
      ]
    },
    {
      "cell_type": "code",
      "source": [
        "normalize('NFC', ohm) == normalize('NFC', ohm_c)"
      ],
      "metadata": {
        "id": "7HEsMsZ5Kn-I",
        "colab": {
          "base_uri": "https://localhost:8080/"
        },
        "outputId": "b07c3074-81cc-4042-ed13-877e04407da1"
      },
      "execution_count": 8,
      "outputs": [
        {
          "output_type": "execute_result",
          "data": {
            "text/plain": [
              "True"
            ]
          },
          "metadata": {},
          "execution_count": 8
        }
      ]
    },
    {
      "cell_type": "code",
      "source": [
        "#예제 14\n",
        "eszett = 'ß'\n",
        "name(eszett)"
      ],
      "metadata": {
        "id": "K-0tgSTrKvnP",
        "colab": {
          "base_uri": "https://localhost:8080/",
          "height": 35
        },
        "outputId": "dad635e7-8a5d-45f1-abc9-4e7a70425d6c"
      },
      "execution_count": 9,
      "outputs": [
        {
          "output_type": "execute_result",
          "data": {
            "text/plain": [
              "'LATIN SMALL LETTER SHARP S'"
            ],
            "application/vnd.google.colaboratory.intrinsic+json": {
              "type": "string"
            }
          },
          "metadata": {},
          "execution_count": 9
        }
      ]
    },
    {
      "cell_type": "code",
      "source": [
        "eszett_cf = eszett.casefold()\n",
        "eszett_cf2 = eszett.lower()\n",
        "eszett, eszett_cf, eszett_cf2"
      ],
      "metadata": {
        "id": "caKT28N6K-uU",
        "colab": {
          "base_uri": "https://localhost:8080/"
        },
        "outputId": "71644092-f538-4c70-8d60-6315a7b48a40"
      },
      "execution_count": 10,
      "outputs": [
        {
          "output_type": "execute_result",
          "data": {
            "text/plain": [
              "('ß', 'ss', 'ß')"
            ]
          },
          "metadata": {},
          "execution_count": 10
        }
      ]
    },
    {
      "cell_type": "code",
      "source": [
        "#예제 15\n",
        "s1 = 'café'\n",
        "s2 = 'cafe\\u0301'\n",
        "s1 == s2"
      ],
      "metadata": {
        "id": "GUoimNH1LODj",
        "colab": {
          "base_uri": "https://localhost:8080/"
        },
        "outputId": "3cdd058c-2bc1-4525-dfd1-0e97d6633181"
      },
      "execution_count": 11,
      "outputs": [
        {
          "output_type": "execute_result",
          "data": {
            "text/plain": [
              "False"
            ]
          },
          "metadata": {},
          "execution_count": 11
        }
      ]
    },
    {
      "cell_type": "code",
      "source": [
        "from unicodedata import normalize\n",
        "\n",
        "def nfc_equal(str1, str2):\n",
        "  return normalize('NFC', str1) == normalize('NFC', str2)\n",
        "\n",
        "def fold_equal(str1, str2):\n",
        "  return (normalize('NFC', str1).casefold() == normalize('NFC', str2).casefold())\n",
        "\n",
        "nfc_equal(s1, s2)"
      ],
      "metadata": {
        "id": "ug1rk_dTLaWJ",
        "colab": {
          "base_uri": "https://localhost:8080/"
        },
        "outputId": "f8575277-5522-4a7d-9b24-7cc76ae4d50f"
      },
      "execution_count": 12,
      "outputs": [
        {
          "output_type": "execute_result",
          "data": {
            "text/plain": [
              "True"
            ]
          },
          "metadata": {},
          "execution_count": 12
        }
      ]
    },
    {
      "cell_type": "code",
      "source": [
        "nfc_equal('A', 'a')"
      ],
      "metadata": {
        "id": "gmxDf4fSL4_L",
        "colab": {
          "base_uri": "https://localhost:8080/"
        },
        "outputId": "e0695929-ff85-4b24-c490-eb1fc86a7c63"
      },
      "execution_count": 13,
      "outputs": [
        {
          "output_type": "execute_result",
          "data": {
            "text/plain": [
              "False"
            ]
          },
          "metadata": {},
          "execution_count": 13
        }
      ]
    },
    {
      "cell_type": "code",
      "source": [
        "s3 = 'Straße'\n",
        "s4 = 'strasse'\n",
        "\n",
        "s3 == s4"
      ],
      "metadata": {
        "id": "nE-mRm7WMB8J",
        "colab": {
          "base_uri": "https://localhost:8080/"
        },
        "outputId": "cc2a5b26-738b-472a-f19a-6158f3f4f302"
      },
      "execution_count": 14,
      "outputs": [
        {
          "output_type": "execute_result",
          "data": {
            "text/plain": [
              "False"
            ]
          },
          "metadata": {},
          "execution_count": 14
        }
      ]
    },
    {
      "cell_type": "code",
      "source": [
        "nfc_equal(s3, s4)"
      ],
      "metadata": {
        "id": "_z1RLyaXMJZf",
        "colab": {
          "base_uri": "https://localhost:8080/"
        },
        "outputId": "2259e07f-47a6-47b9-be62-bc7b8a250dec"
      },
      "execution_count": 15,
      "outputs": [
        {
          "output_type": "execute_result",
          "data": {
            "text/plain": [
              "False"
            ]
          },
          "metadata": {},
          "execution_count": 15
        }
      ]
    },
    {
      "cell_type": "code",
      "source": [
        "fold_equal(s3, s4)"
      ],
      "metadata": {
        "id": "457xCurYMMti",
        "colab": {
          "base_uri": "https://localhost:8080/"
        },
        "outputId": "fddcebdf-8053-4360-924e-1d548ab5430b"
      },
      "execution_count": 16,
      "outputs": [
        {
          "output_type": "execute_result",
          "data": {
            "text/plain": [
              "True"
            ]
          },
          "metadata": {},
          "execution_count": 16
        }
      ]
    },
    {
      "cell_type": "code",
      "source": [
        "fold_equal(s1, s2)"
      ],
      "metadata": {
        "id": "5YJCH-6dMQ3G",
        "colab": {
          "base_uri": "https://localhost:8080/"
        },
        "outputId": "753f1185-e7ed-4339-99a1-1eac417957f0"
      },
      "execution_count": 17,
      "outputs": [
        {
          "output_type": "execute_result",
          "data": {
            "text/plain": [
              "True"
            ]
          },
          "metadata": {},
          "execution_count": 17
        }
      ]
    },
    {
      "cell_type": "code",
      "source": [
        "fold_equal('A', 'a')"
      ],
      "metadata": {
        "id": "CHpcaHLfMXKf",
        "colab": {
          "base_uri": "https://localhost:8080/"
        },
        "outputId": "64c40b6c-80db-42e5-b111-c49deaa5f7a6"
      },
      "execution_count": 18,
      "outputs": [
        {
          "output_type": "execute_result",
          "data": {
            "text/plain": [
              "True"
            ]
          },
          "metadata": {},
          "execution_count": 18
        }
      ]
    },
    {
      "cell_type": "code",
      "source": [
        "#예제 16\n",
        "import unicodedata\n",
        "import string\n",
        "\n",
        "def shave_marks(txt):\n",
        "  \"\"\"발음 구별 기호를 모두 제거한다\"\"\"\n",
        "  norm_txt = unicodedata.normalize('NFD', txt)\n",
        "  shaved = ''.join(c for c in norm_txt\n",
        "                   if not unicodedata.combining(c))\n",
        "  return unicodedata.normalize('NFC', shaved)"
      ],
      "metadata": {
        "id": "2iC8iClcMgQR"
      },
      "execution_count": 19,
      "outputs": []
    },
    {
      "cell_type": "code",
      "source": [
        "order = 'ʺHerr Voß: •½ cup of Œtker™ caffè latte • bowl of açaíʺ'\n",
        "shave_marks(order)"
      ],
      "metadata": {
        "colab": {
          "base_uri": "https://localhost:8080/",
          "height": 35
        },
        "id": "dHzXE6N9O0AY",
        "outputId": "a52289e2-9a19-4c2d-e7be-50ff5b8bce96"
      },
      "execution_count": 28,
      "outputs": [
        {
          "output_type": "execute_result",
          "data": {
            "text/plain": [
              "'ʺHerr Voß: •½ cup of Œtker™ caffe latte • bowl of acaiʺ'"
            ],
            "application/vnd.google.colaboratory.intrinsic+json": {
              "type": "string"
            }
          },
          "metadata": {},
          "execution_count": 28
        }
      ]
    },
    {
      "cell_type": "code",
      "source": [
        "Greek = 'Zέφυρος, Zéfiro'\n",
        "shave_marks(Greek)"
      ],
      "metadata": {
        "colab": {
          "base_uri": "https://localhost:8080/",
          "height": 35
        },
        "id": "yqcBGEXKSUTO",
        "outputId": "13fe2bc5-eb4b-4e3b-fff6-225eb4477fd5"
      },
      "execution_count": 29,
      "outputs": [
        {
          "output_type": "execute_result",
          "data": {
            "text/plain": [
              "'Zεφυρος, Zefiro'"
            ],
            "application/vnd.google.colaboratory.intrinsic+json": {
              "type": "string"
            }
          },
          "metadata": {},
          "execution_count": 29
        }
      ]
    },
    {
      "cell_type": "code",
      "source": [
        "shave_marks('Straße')"
      ],
      "metadata": {
        "colab": {
          "base_uri": "https://localhost:8080/",
          "height": 35
        },
        "id": "RpmGABamVwpw",
        "outputId": "5a574d69-61d2-4b6a-df6f-50eb2193b588"
      },
      "execution_count": 30,
      "outputs": [
        {
          "output_type": "execute_result",
          "data": {
            "text/plain": [
              "'Straße'"
            ],
            "application/vnd.google.colaboratory.intrinsic+json": {
              "type": "string"
            }
          },
          "metadata": {},
          "execution_count": 30
        }
      ]
    },
    {
      "cell_type": "code",
      "source": [
        "shave_marks('café')"
      ],
      "metadata": {
        "colab": {
          "base_uri": "https://localhost:8080/",
          "height": 35
        },
        "id": "VnyL12OHV3hE",
        "outputId": "d39b34ca-4e10-420b-de1f-2614d6014f93"
      },
      "execution_count": 31,
      "outputs": [
        {
          "output_type": "execute_result",
          "data": {
            "text/plain": [
              "'cafe'"
            ],
            "application/vnd.google.colaboratory.intrinsic+json": {
              "type": "string"
            }
          },
          "metadata": {},
          "execution_count": 31
        }
      ]
    },
    {
      "cell_type": "code",
      "source": [
        "#예제 17\n",
        "def shave_marks_latin(txt):\n",
        "  \"\"\"Remove all diacritic marks from Latin base characters\"\"\"\n",
        "  norm_txt = unicodedata.normalize('NFD', txt)\n",
        "\n",
        "  latin_base = False\n",
        "  keepers = []\n",
        "\n",
        "  for c in norm_txt:\n",
        "    if unicodedata.combining(c) and latin_base:\n",
        "      continue\n",
        "\n",
        "    keepers.append(c)\n",
        "\n",
        "    if not unicodedata.combining(c):\n",
        "      latin_base = c in string.ascii_letters\n",
        "\n",
        "  shaved = ''.join(keepers)\n",
        "\n",
        "  return unicodedata.normalize('NFC', shaved)"
      ],
      "metadata": {
        "id": "nSmU7SjRNMui"
      },
      "execution_count": 32,
      "outputs": []
    },
    {
      "cell_type": "code",
      "source": [
        "#예제 18\n",
        "single_map = str.maketrans(\"\"\",f„ߙ^‹ʻʼˮˮ•——˜›\"\"\",\n",
        "                           \"\"\"'f\"*^<''\"\"---~>\"\"\")\n",
        "\n",
        "multi_map = str.maketrans({\n",
        "    '€': '<euro>',\n",
        "    '…': '...',\n",
        "    'Œ': 'OE',\n",
        "    '™': '(TM)',\n",
        "    'œ': 'oe',\n",
        "    '‰': '<per mille>',\n",
        "    '‡': '**',\n",
        "})\n",
        "\n",
        "multi_map.update(single_map)\n",
        "\n",
        "def dewinize(txt):\n",
        "  \"\"\"Replace Win1252 symbols with ASCII chars or sequences\"\"\"\n",
        "  return txt.translate(multi_map)\n",
        "\n",
        "def asciize(txt):\n",
        "  no_marks = shave_marks_latin(dewinize(txt))\n",
        "  no_marks = no_marks.replace('ß', 'ss')\n",
        "  return unicodedata.normalize('NFKC', no_marks)"
      ],
      "metadata": {
        "id": "e8gwKMIRWALC"
      },
      "execution_count": 50,
      "outputs": []
    },
    {
      "cell_type": "code",
      "source": [
        "order = 'ʺHerr Voß: •½ cup of Œtker™ caffè latte • bowl of açaíʺ'\n",
        "dewinize(order)"
      ],
      "metadata": {
        "colab": {
          "base_uri": "https://localhost:8080/",
          "height": 35
        },
        "id": "XLEheM2Aesdi",
        "outputId": "b8446c38-b9f2-47ea-dedf-6a78bbfaa120"
      },
      "execution_count": 51,
      "outputs": [
        {
          "output_type": "execute_result",
          "data": {
            "text/plain": [
              "'ʺHerr Voß: -½ cup of OEtker(TM) caffè latte - bowl of açaíʺ'"
            ],
            "application/vnd.google.colaboratory.intrinsic+json": {
              "type": "string"
            }
          },
          "metadata": {},
          "execution_count": 51
        }
      ]
    },
    {
      "cell_type": "code",
      "source": [
        "asciize(order)"
      ],
      "metadata": {
        "colab": {
          "base_uri": "https://localhost:8080/",
          "height": 35
        },
        "id": "-sZ5zABqf32W",
        "outputId": "51b821a3-f762-4089-b449-b321159e6711"
      },
      "execution_count": 52,
      "outputs": [
        {
          "output_type": "execute_result",
          "data": {
            "text/plain": [
              "'ʺHerr Voss: -1⁄2 cup of OEtker(TM) caffe latte - bowl of acaiʺ'"
            ],
            "application/vnd.google.colaboratory.intrinsic+json": {
              "type": "string"
            }
          },
          "metadata": {},
          "execution_count": 52
        }
      ]
    },
    {
      "cell_type": "code",
      "source": [
        "#예제 19\n",
        "fruits = ['caju', 'atemoia', 'cajá', 'açaí', 'acerola']\n",
        "sorted(fruits)"
      ],
      "metadata": {
        "colab": {
          "base_uri": "https://localhost:8080/"
        },
        "id": "J6Bo7yrYf-yq",
        "outputId": "4e301871-e047-4261-889a-30b879677c27"
      },
      "execution_count": 53,
      "outputs": [
        {
          "output_type": "execute_result",
          "data": {
            "text/plain": [
              "['acerola', 'atemoia', 'açaí', 'caju', 'cajá']"
            ]
          },
          "metadata": {},
          "execution_count": 53
        }
      ]
    },
    {
      "cell_type": "code",
      "source": [
        "#예제 20\n",
        "!pip install pyuca"
      ],
      "metadata": {
        "colab": {
          "base_uri": "https://localhost:8080/"
        },
        "id": "4sc2t5HJgU40",
        "outputId": "1798b52e-d35f-4b69-d739-196473b44182"
      },
      "execution_count": 54,
      "outputs": [
        {
          "output_type": "stream",
          "name": "stdout",
          "text": [
            "Collecting pyuca\n",
            "  Downloading pyuca-1.2-py2.py3-none-any.whl.metadata (649 bytes)\n",
            "Downloading pyuca-1.2-py2.py3-none-any.whl (1.5 MB)\n",
            "\u001b[2K   \u001b[90m━━━━━━━━━━━━━━━━━━━━━━━━━━━━━━━━━━━━━━━━\u001b[0m \u001b[32m1.5/1.5 MB\u001b[0m \u001b[31m14.1 MB/s\u001b[0m eta \u001b[36m0:00:00\u001b[0m\n",
            "\u001b[?25hInstalling collected packages: pyuca\n",
            "Successfully installed pyuca-1.2\n"
          ]
        }
      ]
    },
    {
      "cell_type": "code",
      "source": [
        "import pyuca\n",
        "coll = pyuca.Collator()\n",
        "fruits = ['caju', 'atemoia', 'cajá', 'açaí', 'acerola']\n",
        "sorted_fruits = sorted(fruits, key=coll.sort_key)\n",
        "sorted_fruits"
      ],
      "metadata": {
        "colab": {
          "base_uri": "https://localhost:8080/"
        },
        "id": "MBhdNk39galj",
        "outputId": "c51794c2-d58d-4de1-8b17-490e76026fdf"
      },
      "execution_count": 55,
      "outputs": [
        {
          "output_type": "execute_result",
          "data": {
            "text/plain": [
              "['açaí', 'acerola', 'atemoia', 'cajá', 'caju']"
            ]
          },
          "metadata": {},
          "execution_count": 55
        }
      ]
    },
    {
      "cell_type": "code",
      "source": [
        "#예제 21\n",
        "import unicodedata\n",
        "import re\n",
        "\n",
        "re_digit = re.compile(r'\\d')\n",
        "sample = '1\\xde\\xb2\\u0969\\u136b\\u216b\\u2466\\u2480\\u3285'\n",
        "\n",
        "for char in sample:\n",
        "  print('U+%04x' % ord(char),\n",
        "        char.center(6),\n",
        "        're_dig' if re_digit.match(char) else '-',\n",
        "        'isdig' if char.isdigit() else '-',\n",
        "        'isnum' if char.isnumeric() else '-',\n",
        "        format(unicodedata.numeric(char), '5.2f'),\n",
        "        unicodedata.name(char),\n",
        "        sep='\\t')"
      ],
      "metadata": {
        "id": "O8RZOoseOFed",
        "colab": {
          "base_uri": "https://localhost:8080/",
          "height": 240
        },
        "outputId": "b8df980e-c232-4d63-92b6-2e4dbe594787"
      },
      "execution_count": 66,
      "outputs": [
        {
          "output_type": "stream",
          "name": "stdout",
          "text": [
            "U+0031\t  1   \tre_dig\tisdig\tisnum\t 1.00\tDIGIT ONE\n"
          ]
        },
        {
          "output_type": "error",
          "ename": "ValueError",
          "evalue": "not a numeric character",
          "traceback": [
            "\u001b[0;31m---------------------------------------------------------------------------\u001b[0m",
            "\u001b[0;31mValueError\u001b[0m                                Traceback (most recent call last)",
            "\u001b[0;32m<ipython-input-66-f24c1745811f>\u001b[0m in \u001b[0;36m<cell line: 8>\u001b[0;34m()\u001b[0m\n\u001b[1;32m     12\u001b[0m         \u001b[0;34m'isdig'\u001b[0m \u001b[0;32mif\u001b[0m \u001b[0mchar\u001b[0m\u001b[0;34m.\u001b[0m\u001b[0misdigit\u001b[0m\u001b[0;34m(\u001b[0m\u001b[0;34m)\u001b[0m \u001b[0;32melse\u001b[0m \u001b[0;34m'-'\u001b[0m\u001b[0;34m,\u001b[0m\u001b[0;34m\u001b[0m\u001b[0;34m\u001b[0m\u001b[0m\n\u001b[1;32m     13\u001b[0m         \u001b[0;34m'isnum'\u001b[0m \u001b[0;32mif\u001b[0m \u001b[0mchar\u001b[0m\u001b[0;34m.\u001b[0m\u001b[0misnumeric\u001b[0m\u001b[0;34m(\u001b[0m\u001b[0;34m)\u001b[0m \u001b[0;32melse\u001b[0m \u001b[0;34m'-'\u001b[0m\u001b[0;34m,\u001b[0m\u001b[0;34m\u001b[0m\u001b[0;34m\u001b[0m\u001b[0m\n\u001b[0;32m---> 14\u001b[0;31m         \u001b[0mformat\u001b[0m\u001b[0;34m(\u001b[0m\u001b[0municodedata\u001b[0m\u001b[0;34m.\u001b[0m\u001b[0mnumeric\u001b[0m\u001b[0;34m(\u001b[0m\u001b[0mchar\u001b[0m\u001b[0;34m)\u001b[0m\u001b[0;34m,\u001b[0m \u001b[0;34m'5.2f'\u001b[0m\u001b[0;34m)\u001b[0m\u001b[0;34m,\u001b[0m\u001b[0;34m\u001b[0m\u001b[0;34m\u001b[0m\u001b[0m\n\u001b[0m\u001b[1;32m     15\u001b[0m         \u001b[0municodedata\u001b[0m\u001b[0;34m.\u001b[0m\u001b[0mname\u001b[0m\u001b[0;34m(\u001b[0m\u001b[0mchar\u001b[0m\u001b[0;34m)\u001b[0m\u001b[0;34m,\u001b[0m\u001b[0;34m\u001b[0m\u001b[0;34m\u001b[0m\u001b[0m\n\u001b[1;32m     16\u001b[0m         sep='\\t')\n",
            "\u001b[0;31mValueError\u001b[0m: not a numeric character"
          ]
        }
      ]
    },
    {
      "cell_type": "code",
      "source": [
        "#예제 22\n",
        "import re\n",
        "\n",
        "re_numbers_str = re.compile(r'\\d+')\n",
        "re_words_str = re.compile(r'\\w+')\n",
        "re_numbers_bytes = re.compile(rb'\\d+')\n",
        "re_words_bytes = re.compile(rb'\\w+')\n",
        "\n",
        "text_str = (\"Ramanujan saw \\u0be7\\u0bed\\u0be8\\u0bef\"\n",
        "              \" as 1729 = 1³+ 12³= 9³+ 10³.\")\n",
        "\n",
        "text_bytes = text_str.encode('utf_8')\n",
        "\n",
        "print('Text', repr(text_str), sep='\\n ')\n",
        "print('Numbers')\n",
        "print(' str :', re_numbers_str.findall(text_str))\n",
        "print(' bytes:', re_numbers_bytes.findall(text_bytes))\n",
        "print('Words')\n",
        "print(' str :', re_words_str.findall(text_str))\n",
        "print(' bytes:', re_words_bytes.findall(text_bytes))"
      ],
      "metadata": {
        "id": "f_ndfIVDPFtr",
        "colab": {
          "base_uri": "https://localhost:8080/"
        },
        "outputId": "d93bdbe1-d9e7-423e-896a-9a3dbfaeee4d"
      },
      "execution_count": 60,
      "outputs": [
        {
          "output_type": "stream",
          "name": "stdout",
          "text": [
            "Text\n",
            " 'Ramanujan saw ௧௭௨௯ as 1729 = 1³+ 12³= 9³+ 10³.'\n",
            "Numbers\n",
            " str : ['௧௭௨௯', '1729', '1', '12', '9', '10']\n",
            " bytes: [b'1729', b'1', b'12', b'9', b'10']\n",
            "Words\n",
            " str : ['Ramanujan', 'saw', '௧௭௨௯', 'as', '1729', '1³', '12³', '9³', '10³']\n",
            " bytes: [b'Ramanujan', b'saw', b'as', b'1729', b'1', b'12', b'9', b'10']\n"
          ]
        }
      ]
    },
    {
      "cell_type": "code",
      "source": [
        "#예제 23\n",
        "import os\n",
        "\n",
        "os.listdir('.')"
      ],
      "metadata": {
        "id": "9qlRw_JiQR3Y",
        "colab": {
          "base_uri": "https://localhost:8080/"
        },
        "outputId": "0cca7423-d9af-41a8-8212-20baf675150d"
      },
      "execution_count": 61,
      "outputs": [
        {
          "output_type": "execute_result",
          "data": {
            "text/plain": [
              "['.config', 'dummy', 'cafe.txt', 'sample_data']"
            ]
          },
          "metadata": {},
          "execution_count": 61
        }
      ]
    },
    {
      "cell_type": "code",
      "source": [
        "os.listdir(b'.')"
      ],
      "metadata": {
        "id": "OPP95U1SQZJm",
        "colab": {
          "base_uri": "https://localhost:8080/"
        },
        "outputId": "830d60d2-e359-463e-d946-f656e093d428"
      },
      "execution_count": 62,
      "outputs": [
        {
          "output_type": "execute_result",
          "data": {
            "text/plain": [
              "[b'.config', b'dummy', b'cafe.txt', b'sample_data']"
            ]
          },
          "metadata": {},
          "execution_count": 62
        }
      ]
    },
    {
      "cell_type": "code",
      "source": [
        "#예제 24\n",
        "os.listdir('./fluent_python')"
      ],
      "metadata": {
        "id": "cRTyZ5psQjdJ",
        "colab": {
          "base_uri": "https://localhost:8080/",
          "height": 166
        },
        "outputId": "d4911a93-427a-4380-f7fe-238cfdbfb4bb"
      },
      "execution_count": 63,
      "outputs": [
        {
          "output_type": "error",
          "ename": "FileNotFoundError",
          "evalue": "[Errno 2] No such file or directory: './fluent_python'",
          "traceback": [
            "\u001b[0;31m---------------------------------------------------------------------------\u001b[0m",
            "\u001b[0;31mFileNotFoundError\u001b[0m                         Traceback (most recent call last)",
            "\u001b[0;32m<ipython-input-63-72592fe1c211>\u001b[0m in \u001b[0;36m<cell line: 2>\u001b[0;34m()\u001b[0m\n\u001b[1;32m      1\u001b[0m \u001b[0;31m#예제 24\u001b[0m\u001b[0;34m\u001b[0m\u001b[0;34m\u001b[0m\u001b[0m\n\u001b[0;32m----> 2\u001b[0;31m \u001b[0mos\u001b[0m\u001b[0;34m.\u001b[0m\u001b[0mlistdir\u001b[0m\u001b[0;34m(\u001b[0m\u001b[0;34m'./fluent_python'\u001b[0m\u001b[0;34m)\u001b[0m\u001b[0;34m\u001b[0m\u001b[0;34m\u001b[0m\u001b[0m\n\u001b[0m",
            "\u001b[0;31mFileNotFoundError\u001b[0m: [Errno 2] No such file or directory: './fluent_python'"
          ]
        }
      ]
    },
    {
      "cell_type": "code",
      "source": [
        "os.listdir(b'./fluent_python')"
      ],
      "metadata": {
        "id": "OKP2lzaeQo09",
        "colab": {
          "base_uri": "https://localhost:8080/",
          "height": 148
        },
        "outputId": "54066d38-6427-47ef-8951-7cfe4ae27655"
      },
      "execution_count": 64,
      "outputs": [
        {
          "output_type": "error",
          "ename": "FileNotFoundError",
          "evalue": "[Errno 2] No such file or directory: b'./fluent_python'",
          "traceback": [
            "\u001b[0;31m---------------------------------------------------------------------------\u001b[0m",
            "\u001b[0;31mFileNotFoundError\u001b[0m                         Traceback (most recent call last)",
            "\u001b[0;32m<ipython-input-64-3d24ec2fde51>\u001b[0m in \u001b[0;36m<cell line: 1>\u001b[0;34m()\u001b[0m\n\u001b[0;32m----> 1\u001b[0;31m \u001b[0mos\u001b[0m\u001b[0;34m.\u001b[0m\u001b[0mlistdir\u001b[0m\u001b[0;34m(\u001b[0m\u001b[0;34mb'./fluent_python'\u001b[0m\u001b[0;34m)\u001b[0m\u001b[0;34m\u001b[0m\u001b[0;34m\u001b[0m\u001b[0m\n\u001b[0m",
            "\u001b[0;31mFileNotFoundError\u001b[0m: [Errno 2] No such file or directory: b'./fluent_python'"
          ]
        }
      ]
    },
    {
      "cell_type": "code",
      "source": [
        "pi_name_bytes = os.listdir(b'.')[1]\n",
        "pi_name_str = pi_name_bytes.decode('ascii', 'surrogateescape')\n",
        "pi_name_str"
      ],
      "metadata": {
        "id": "nVHSQsqdQsVj",
        "colab": {
          "base_uri": "https://localhost:8080/",
          "height": 35
        },
        "outputId": "162a946e-e6d7-4b2a-c5e1-bc98e9e37f19"
      },
      "execution_count": 65,
      "outputs": [
        {
          "output_type": "execute_result",
          "data": {
            "text/plain": [
              "'dummy'"
            ],
            "application/vnd.google.colaboratory.intrinsic+json": {
              "type": "string"
            }
          },
          "metadata": {},
          "execution_count": 65
        }
      ]
    }
  ]
}